{
 "cells": [
  {
   "cell_type": "code",
   "execution_count": 1,
   "id": "31d7390b",
   "metadata": {},
   "outputs": [],
   "source": [
    "%load_ext autoreload\n",
    "%autoreload 2\n",
    "\n",
    "from nca.models import BaselineNCA, FCInvAE\n",
    "import numpy as np\n",
    "import matplotlib.pyplot as plt\n",
    "\n",
    "import torch\n",
    "import torch.nn as nn\n",
    "import torch.nn.functional as F\n",
    "from kornia import augmentation\n",
    "\n",
    "from tqdm.auto import tqdm\n",
    "import base64\n",
    "import matplotlib\n",
    "from io import BytesIO\n",
    "from PIL import Image\n",
    "from IPython.display import HTML"
   ]
  },
  {
   "cell_type": "code",
   "execution_count": 2,
   "id": "065e72c4",
   "metadata": {},
   "outputs": [],
   "source": [
    "device = \"cuda\"\n",
    "inv_ae = FCInvAE(msg_size=8, frame_size=32).to(device)"
   ]
  },
  {
   "cell_type": "code",
   "execution_count": 3,
   "id": "81d4f855",
   "metadata": {},
   "outputs": [],
   "source": [
    "loss, info = inv_ae.optim_step(bs=32, noise_size=0.1, lr=0.01)"
   ]
  },
  {
   "cell_type": "code",
   "execution_count": 4,
   "id": "99d30ed2",
   "metadata": {},
   "outputs": [],
   "source": [
    "inv_ae = FCInvAE(msg_size=16, frame_size=64).to(device)\n",
    "# inv_ae.fit(its=1000, bs=100, noise_size=1, lr=0.01)"
   ]
  },
  {
   "cell_type": "code",
   "execution_count": 5,
   "id": "7d00701a",
   "metadata": {},
   "outputs": [],
   "source": [
    "# inv_ae.plot_loss()"
   ]
  },
  {
   "cell_type": "code",
   "execution_count": 6,
   "id": "e46fe3b7",
   "metadata": {},
   "outputs": [],
   "source": [
    "out = inv_ae.forward(bs=5, noise_size=0.5)"
   ]
  },
  {
   "cell_type": "code",
   "execution_count": 7,
   "id": "920815b9",
   "metadata": {},
   "outputs": [],
   "source": [
    "# nca = BaselineNCA(lr=0.01).to(device)\n",
    "# nca_out = nca.forward(out[\"image\"], steps=10)\n",
    "# out[\"image\"] = nca_out[-1]\n",
    "# nca_out = torch.stack(nca_out)[:,:,0]"
   ]
  },
  {
   "cell_type": "code",
   "execution_count": 8,
   "id": "39002c32-bd60-416e-989f-a461bd4e3a3e",
   "metadata": {},
   "outputs": [],
   "source": [
    "def make_gif(nca_out, fps=10):\n",
    "    seq_out = nca_out.detach().cpu().numpy()\n",
    "    pil_arrs = (plt.cm.viridis(seq_out)[:,:,:,:3] * 255).astype(np.uint8)\n",
    "    pils = [Image.fromarray(arr).resize((200, 200), Image.NEAREST) for arr in pil_arrs]\n",
    "    \n",
    "    fp = BytesIO()\n",
    "    pils[0].save(\n",
    "        fp,\n",
    "        format=\"gif\",\n",
    "        save_all=True,\n",
    "        append_images=pils[1:],\n",
    "        duration=1000 / fps,\n",
    "        loop=0,\n",
    "    )\n",
    "    fp.seek(0)\n",
    "    \n",
    "    b64 = base64.b64encode(fp.read()).decode(\"ascii\")\n",
    "    html = f\"\"\"<img src=\"data:image/gif;base64,{b64}\" />\"\"\"\n",
    "    return HTML(html)"
   ]
  },
  {
   "cell_type": "code",
   "execution_count": 9,
   "id": "39be16b4-280b-4194-8b94-f57caa9fb77c",
   "metadata": {},
   "outputs": [],
   "source": [
    "# make_gif(nca_out[:,3], fps=22)"
   ]
  },
  {
   "cell_type": "code",
   "execution_count": 10,
   "id": "43f7bda0",
   "metadata": {},
   "outputs": [],
   "source": [
    "# inv_ae.render_out(out)"
   ]
  },
  {
   "cell_type": "code",
   "execution_count": null,
   "id": "2fe8475a",
   "metadata": {},
   "outputs": [],
   "source": []
  },
  {
   "cell_type": "code",
   "execution_count": 11,
   "id": "bd5d88a8",
   "metadata": {},
   "outputs": [],
   "source": [
    "noise_size = 1\n",
    "noiser = nn.Sequential(\n",
    "#     augmentation.RandomAffine(\n",
    "#         degrees=(-0, 0), translate=(0.1, 0.1), scale=(1, 1), p=noise_size\n",
    "#     ),\n",
    "    # augmentation.RandomBoxBlur(kernel_size=(5, 5), p=noise_size),\n",
    "    augmentation.RandomErasing((0.1, 0.2), (0.3, 1 / 0.3), p=noise_size),\n",
    "    # augmentation.RandomJigsaw(grid=(4, 4), p=noise_size),\n",
    "    augmentation.RandomGaussianNoise(1, 0.1, same_on_batch=False, p=noise_size),\n",
    ")"
   ]
  },
  {
   "cell_type": "code",
   "execution_count": 12,
   "id": "1bcaa724",
   "metadata": {
    "scrolled": false
   },
   "outputs": [
    {
     "data": {
      "application/vnd.jupyter.widget-view+json": {
       "model_id": "e9472a738d694b929337afcd003068a0",
       "version_major": 2,
       "version_minor": 0
      },
      "text/plain": [
       "  0%|          | 0/1000 [00:00<?, ?it/s]"
      ]
     },
     "metadata": {},
     "output_type": "display_data"
    }
   ],
   "source": [
    "inv_ae = FCInvAE(msg_size=16, frame_size=64).to(device)\n",
    "nca = BaselineNCA().to(device)\n",
    "lr = 0.001\n",
    "optim = torch.optim.Adam(list(nca.parameters()) + list(inv_ae.parameters()), lr=lr)\n",
    "history = []\n",
    "\n",
    "bs = 100\n",
    "steps = 100\n",
    "its = 1000\n",
    "\n",
    "pbar = tqdm(range(its))\n",
    "for e in pbar:\n",
    "    msg = inv_ae.sample_msg(bs)\n",
    "    image = inv_ae.encode(msg)\n",
    "    image_rep = image.repeat(1, 4, 1, 1)\n",
    "    nca_out = nca.forward_many(image_rep, steps=steps // 2)\n",
    "    nca_out = torch.stack(nca_out)\n",
    "\n",
    "    last_frame = nca_out[-1]\n",
    "    last_frame = noiser(last_frame)\n",
    "    nca_out2 = nca.forward_many(last_frame, steps=steps // 2)\n",
    "    nca_out2 = torch.stack(nca_out2)[:,:,:1]\n",
    "\n",
    "    last_frame = nca_out2[-1]\n",
    "    decode_inp = last_frame.reshape(bs, -1)\n",
    "    decoded_msg = inv_ae.decode(decode_inp).reshape(bs, -1)\n",
    "\n",
    "    loss = F.mse_loss(decoded_msg, msg)\n",
    "\n",
    "    optim.zero_grad()\n",
    "    loss.backward()\n",
    "    optim.step()\n",
    "\n",
    "    pbar.set_description(f\"Loss: {loss.item():0.6f}\")\n",
    "    history.append(loss.item())\n",
    "    break\n",
    "    \n",
    "nca_out_cat = torch.cat([nca_out[:,:,:1], nca_out2])"
   ]
  },
  {
   "cell_type": "code",
   "execution_count": 13,
   "id": "79cbfa59",
   "metadata": {},
   "outputs": [
    {
     "data": {
      "image/png": "[encoded data removed]",
      "text/plain": [
       "<Figure size 640x480 with 1 Axes>"
      ]
     },
     "metadata": {},
     "output_type": "display_data"
    }
   ],
   "source": [
    "# plt.plot(history)\n",
    "# plt.yscale('log')"
   ]
  },
  {
   "cell_type": "code",
   "execution_count": 14,
   "id": "02e833e0",
   "metadata": {},
   "outputs": [],
   "source": [
    "# im = nca_out_cat[-1, 0, 0].detach().cpu().numpy()\n",
    "# plt.imshow(im)"
   ]
  },
  {
   "cell_type": "code",
   "execution_count": 1,
   "id": "6921f0dc-b002-49f6-a650-51937a1b9e40",
   "metadata": {},
   "outputs": [
    {
     "ename": "NameError",
     "evalue": "name 'make_gif' is not defined",
     "output_type": "error",
     "traceback": [
      "\u001b[0;31m---------------------------------------------------------------------------\u001b[0m",
      "\u001b[0;31mNameError\u001b[0m                                 Traceback (most recent call last)",
      "Cell \u001b[0;32mIn[1], line 1\u001b[0m\n\u001b[0;32m----> 1\u001b[0m \u001b[43mmake_gif\u001b[49m(nca_out_cat[:,\u001b[38;5;241m4\u001b[39m,\u001b[38;5;241m0\u001b[39m], fps\u001b[38;5;241m=\u001b[39m\u001b[38;5;241m22\u001b[39m)\n",
      "\u001b[0;31mNameError\u001b[0m: name 'make_gif' is not defined"
     ]
    }
   ],
   "source": [
    "make_gif(nca_out_cat[:,4,0], fps=22)"
   ]
  },
  {
   "cell_type": "code",
   "execution_count": null,
   "id": "6c15864c",
   "metadata": {},
   "outputs": [],
   "source": []
  },
  {
   "cell_type": "code",
   "execution_count": null,
   "id": "e1a616a3",
   "metadata": {},
   "outputs": [],
   "source": []
  },
  {
   "cell_type": "code",
   "execution_count": 19,
   "id": "a471d2de",
   "metadata": {},
   "outputs": [],
   "source": [
    "nca = BaselineNCA().to(device)"
   ]
  },
  {
   "cell_type": "code",
   "execution_count": 1,
   "id": "96d49728",
   "metadata": {},
   "outputs": [],
   "source": [
    "image_rep = inp = torch.randn(100, 4, 64, 64).to(device)\n",
    "nca_out = nca.forward_many(image_rep, steps=100)\n",
    "nca_out = torch.stack(nca_out)"
   ]
  },
  {
   "cell_type": "code",
   "execution_count": null,
   "id": "910813fb",
   "metadata": {},
   "outputs": [],
   "source": [
    "make_gif(nca_out[:,0,0], fps=22)"
   ]
  },
  {
   "cell_type": "code",
   "execution_count": null,
   "id": "1708524b",
   "metadata": {},
   "outputs": [],
   "source": []
  }
 ],
 "metadata": {
  "kernelspec": {
   "display_name": "Python 3 (ipykernel)",
   "language": "python",
   "name": "python3"
  },
  "language_info": {
   "codemirror_mode": {
    "name": "ipython",
    "version": 3
   },
   "file_extension": ".py",
   "mimetype": "text/x-python",
   "name": "python",
   "nbconvert_exporter": "python",
   "pygments_lexer": "ipython3",
   "version": "3.10.12"
  }
 },
 "nbformat": 4,
 "nbformat_minor": 5
}
