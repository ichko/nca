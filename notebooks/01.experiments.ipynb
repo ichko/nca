{
 "cells": [
  {
   "cell_type": "markdown",
   "id": "77030c91",
   "metadata": {},
   "source": [
    "- [From Conway to Lenia - Notebook](https://colab.research.google.com/github/OpenLenia/Lenia-Tutorial/blob/main/Tutorial_From_Conway_to_Lenia.ipynb#scrollTo=VAt144SoGZZr)\n",
    "\n",
    "- [NCA Impl - Notebook](https://github.com/Mayukhdeb/differentiable-morphogenesis/blob/main/notebooks/basic_walkthrough.ipynb)\n",
    "\n",
    "- [ALIFE2023: Flow-Lenia](https://www.youtube.com/watch?v=605DcOMwFLM)\n",
    "\n",
    "- [Play animation widget](https://ipywidgets.readthedocs.io/en/stable/examples/Widget%20List.html#play-animation-widget)"
   ]
  },
  {
   "cell_type": "code",
   "execution_count": 1,
   "id": "09301433-4c71-4624-ba0d-62f3c0b4fc0b",
   "metadata": {},
   "outputs": [],
   "source": [
    "%load_ext autoreload\n",
    "%autoreload 2"
   ]
  },
  {
   "cell_type": "code",
   "execution_count": 64,
   "id": "0c23240c-53a7-4a04-a7c9-9d856a6d058f",
   "metadata": {},
   "outputs": [],
   "source": [
    "import torch\n",
    "import torch.nn as nn\n",
    "import torch.nn.functional as F\n",
    "import matplotlib.pyplot as plt\n",
    "from aesthetic_tensor import aesthetify"
   ]
  },
  {
   "cell_type": "code",
   "execution_count": 4,
   "id": "afe9060a",
   "metadata": {},
   "outputs": [],
   "source": [
    "aesthetify()"
   ]
  },
  {
   "cell_type": "code",
   "execution_count": 73,
   "id": "072430eb",
   "metadata": {},
   "outputs": [],
   "source": [
    "class EncodeDecode(nn.Module):\n",
    "    def __init__(self, msg_size, img_size):\n",
    "        super().__init__()\n",
    "        \n",
    "        self.msg_size = msg_size\n",
    "        self.img_size = img_size\n",
    "        \n",
    "        self.encoder = nn.Sequential(\n",
    "            nn.Linear(msg_size, 20),\n",
    "            nn.ReLU(),\n",
    "            nn.Linear(20, 20),\n",
    "            nn.ReLU(),\n",
    "            nn.Linear(20, self.img_size * self.img_size),\n",
    "        )\n",
    "        \n",
    "        self.decoder = nn.Sequential(\n",
    "            nn.Linear(self.img_size * self.img_size, 20),\n",
    "            nn.ReLU(),\n",
    "            nn.Linear(20, 20),\n",
    "            nn.ReLU(),\n",
    "            nn.Linear(20, msg_size),\n",
    "        )\n",
    "        \n",
    "        self.optim = torch.optim.Adam(self.parameters(), lr=0.01)\n",
    "        \n",
    "    def encode(self, msg):\n",
    "        bs = msg.size(0)\n",
    "        x = self.encoder(msg)\n",
    "        x = x.reshape(bs, 1, self.img_size, self.img_size)\n",
    "        return x\n",
    "        \n",
    "    def decode(self, img):\n",
    "        bs = img.size(0)\n",
    "        x = img.reshape(bs, self.img_size * self.img_size)\n",
    "        x = self.decoder(x)\n",
    "        return x\n",
    "    \n",
    "    @staticmethod\n",
    "    def msg_loss(msg_true, msg_pred):\n",
    "        return F.mse_loss(msg_true, msg_pred)"
   ]
  },
  {
   "cell_type": "code",
   "execution_count": 74,
   "id": "f993e0ae",
   "metadata": {},
   "outputs": [],
   "source": [
    "def sample_msg(bs, msg_size):\n",
    "    return torch.rand(bs, msg_size)"
   ]
  },
  {
   "cell_type": "code",
   "execution_count": 75,
   "id": "96942bfd",
   "metadata": {},
   "outputs": [],
   "source": [
    "msg_size = 16\n",
    "img_size = 20\n",
    "bs = 3\n",
    "\n",
    "msg = sample_msg(bs, msg_size)\n",
    "encode_decode = EncodeDecode(msg_size, img_size)\n",
    "encoded_msg = encode_decode.encode(msg)\n",
    "decoded_msg = encode_decode.decode(encoded_msg)\n",
    "loss = EncodeDecode.msg_loss(msg, decoded_msg)"
   ]
  },
  {
   "cell_type": "code",
   "execution_count": null,
   "id": "fab038d4",
   "metadata": {},
   "outputs": [],
   "source": []
  },
  {
   "cell_type": "code",
   "execution_count": null,
   "id": "0b0b9a8d",
   "metadata": {},
   "outputs": [],
   "source": []
  },
  {
   "cell_type": "code",
   "execution_count": null,
   "id": "283b3a1d",
   "metadata": {},
   "outputs": [],
   "source": []
  },
  {
   "cell_type": "code",
   "execution_count": null,
   "id": "31d7390b",
   "metadata": {},
   "outputs": [],
   "source": []
  }
 ],
 "metadata": {
  "kernelspec": {
   "display_name": "Python 3 (ipykernel)",
   "language": "python",
   "name": "python3"
  },
  "language_info": {
   "codemirror_mode": {
    "name": "ipython",
    "version": 3
   },
   "file_extension": ".py",
   "mimetype": "text/x-python",
   "name": "python",
   "nbconvert_exporter": "python",
   "pygments_lexer": "ipython3",
   "version": "3.9.6"
  }
 },
 "nbformat": 4,
 "nbformat_minor": 5
}
