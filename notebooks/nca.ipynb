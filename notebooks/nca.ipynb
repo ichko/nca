{
 "cells": [
  {
   "cell_type": "code",
   "execution_count": 1,
   "id": "7eab59f8",
   "metadata": {},
   "outputs": [],
   "source": [
    "%load_ext autoreload\n",
    "%autoreload 2"
   ]
  },
  {
   "cell_type": "code",
   "execution_count": 22,
   "id": "1a85731b-d639-4e1b-992a-f485b5c50af6",
   "metadata": {},
   "outputs": [],
   "source": [
    "import torch\n",
    "from torch import nn\n",
    "import torch.nn.functional as F\n",
    "import torchvision\n",
    "\n",
    "import time\n",
    "import numpy as np\n",
    "\n",
    "from tqdm.auto import tqdm\n",
    "import matplotlib.pyplot as plt\n",
    "\n",
    "import PIL\n",
    "\n",
    "from easy_utils import ThreadDraw, LazyUI, make_torch_tensor_easy\n",
    "import ipywidgets as w\n",
    "from IPython.display import display, clear_output, Image"
   ]
  },
  {
   "cell_type": "code",
   "execution_count": 3,
   "id": "1436b69d",
   "metadata": {},
   "outputs": [
    {
     "name": "stdout",
     "output_type": "stream",
     "text": [
      "done\n"
     ]
    }
   ],
   "source": [
    "make_torch_tensor_easy()"
   ]
  },
  {
   "cell_type": "code",
   "execution_count": 4,
   "id": "a4957ee5-4ec8-4df0-9e97-933d9f3ba145",
   "metadata": {},
   "outputs": [],
   "source": [
    "W, H = 32, 32\n",
    "\n",
    "bs = 12\n",
    "\n",
    "seed = torch.rand(bs, 4, 4)\n",
    "inp = torch.zeros(bs, 1, 16, 32)\n",
    "inp[:, 0, 5:9, 11:15] = seed\n",
    "\n",
    "ca_rule = nn.Sequential(\n",
    "    nn.Conv2d(1, 3, (3, 3), stride=1, padding=1),\n",
    "    nn.ReLU(),\n",
    "    nn.Conv2d(3, 10, (1, 1), stride=1, padding=0),\n",
    "    nn.ReLU(),\n",
    "    nn.Conv2d(10, 1, (1, 1), stride=1, padding=0),\n",
    "    nn.Tanh(),\n",
    ")\n",
    "\n",
    "optim = torch.optim.Adam([\n",
    "    *ca_rule.parameters(),\n",
    "], lr=0.02)"
   ]
  },
  {
   "cell_type": "code",
   "execution_count": 5,
   "id": "dde52797",
   "metadata": {},
   "outputs": [],
   "source": [
    "history = []"
   ]
  },
  {
   "cell_type": "code",
   "execution_count": 6,
   "id": "d1d05f4c-c326-4be8-91e8-c7e4a93e0bad",
   "metadata": {},
   "outputs": [],
   "source": [
    "DEVICE = 'cuda'\n",
    "ca_rule = ca_rule.to(DEVICE)\n",
    "inp = inp.to(DEVICE)\n",
    "seed = seed.to(DEVICE)"
   ]
  },
  {
   "cell_type": "code",
   "execution_count": null,
   "id": "56c3e7ae",
   "metadata": {},
   "outputs": [],
   "source": []
  },
  {
   "cell_type": "code",
   "execution_count": 7,
   "id": "ed64bc28",
   "metadata": {},
   "outputs": [],
   "source": [
    "# def run(return_dict):\n",
    "#     while True:\n",
    "#         A = np.random.rand(10, 10)\n",
    "#         fig = plt.figure(dpi=100, figsize=(4, 4), tight_layout=True)\n",
    "\n",
    "#         plt.imshow(np.random.rand(100, 100))\n",
    "\n",
    "#         fig.canvas.draw()\n",
    "#         plt.close()\n",
    "\n",
    "#         X = np.array(fig.canvas.renderer.buffer_rgba())\n",
    "#         return_dict['value'] = X"
   ]
  },
  {
   "cell_type": "code",
   "execution_count": 8,
   "id": "512141a7",
   "metadata": {},
   "outputs": [],
   "source": [
    "# import multiprocessing\n",
    "# ma = multiprocessing.Manager()\n",
    "# return_dict = ma.dict()\n",
    "# p = multiprocessing.Process(target=run, args=(return_dict,))\n",
    "# p.start()"
   ]
  },
  {
   "cell_type": "code",
   "execution_count": 9,
   "id": "39270b36",
   "metadata": {},
   "outputs": [],
   "source": [
    "# v = return_dict['value']\n",
    "# PIL.Image.fromarray(v)"
   ]
  },
  {
   "cell_type": "code",
   "execution_count": 10,
   "id": "babf5761",
   "metadata": {},
   "outputs": [],
   "source": [
    "# p.terminate()"
   ]
  },
  {
   "cell_type": "code",
   "execution_count": null,
   "id": "7e507d93",
   "metadata": {},
   "outputs": [],
   "source": []
  },
  {
   "cell_type": "code",
   "execution_count": null,
   "id": "3fa4712a",
   "metadata": {},
   "outputs": [],
   "source": []
  },
  {
   "cell_type": "code",
   "execution_count": null,
   "id": "a87f03ac",
   "metadata": {},
   "outputs": [],
   "source": []
  },
  {
   "cell_type": "code",
   "execution_count": 11,
   "id": "6d311f44",
   "metadata": {},
   "outputs": [],
   "source": [
    "# ui_container = None\n",
    "# def show_ui():\n",
    "#     global ui_container\n",
    "#     for i in range(1000):\n",
    "#         ui_container = ui([\n",
    "#             [tq.container],\n",
    "#             [ui.plot(np.log(history[-200:]))],\n",
    "#             [out.et.zoom(5)[:,0].cmap().grid(nrow=4, pad=5).pil[0]]\n",
    "#         ]).display()"
   ]
  },
  {
   "cell_type": "code",
   "execution_count": 23,
   "id": "6121a188",
   "metadata": {},
   "outputs": [],
   "source": [
    "tq = tqdm(range(100), display=False)\n",
    "for e in tq:\n",
    "    out = inp\n",
    "    for i in range(20):\n",
    "        out = out + ca_rule(out)\n",
    "\n",
    "    out_shape = out.shape\n",
    "    read_area = out[:, :, :, out_shape[-1] // 2 :]\n",
    "    read_seed = read_area[:, 0, 0:4, 11:15]\n",
    "\n",
    "    loss = F.mse_loss(read_seed, seed)\n",
    "\n",
    "    optim.zero_grad()\n",
    "    loss.backward()\n",
    "    optim.step()\n",
    "\n",
    "    history.append(loss.item())\n",
    "    tq.set_description(f\"Loss: {loss.item():.5f}\")\n",
    "    \n",
    "    LazyUI(lambda ui: ui([\n",
    "        [tq.container],\n",
    "        [ui.plot(np.log(history[-200:]))],\n",
    "        [out.et.zoom(5)[:,0].cmap().grid(nrow=4, pad=5).pil[0]]\n",
    "    ]).display())"
   ]
  },
  {
   "cell_type": "code",
   "execution_count": 20,
   "id": "ce658487-1fdc-409e-a708-a249d4fd0f20",
   "metadata": {},
   "outputs": [
    {
     "data": {
      "text/plain": [
       "True"
      ]
     },
     "execution_count": 20,
     "metadata": {},
     "output_type": "execute_result"
    }
   ],
   "source": [
    "td.t.is_alive()"
   ]
  },
  {
   "cell_type": "code",
   "execution_count": null,
   "id": "608e0800-7a05-426d-899b-acd0f7b91b0d",
   "metadata": {},
   "outputs": [],
   "source": []
  },
  {
   "cell_type": "code",
   "execution_count": null,
   "id": "4efa91e8-e8f7-4a30-9308-1e067195d2b7",
   "metadata": {},
   "outputs": [],
   "source": []
  },
  {
   "cell_type": "code",
   "execution_count": null,
   "id": "1076205a-276d-42f5-b349-05471ab20f38",
   "metadata": {},
   "outputs": [],
   "source": []
  },
  {
   "cell_type": "code",
   "execution_count": null,
   "id": "f587f887-ef27-46a8-b387-cc9fb2fc3c0e",
   "metadata": {},
   "outputs": [],
   "source": []
  },
  {
   "cell_type": "code",
   "execution_count": null,
   "id": "a5f3045d-3cd8-4469-ad29-b5ce5796a16c",
   "metadata": {},
   "outputs": [],
   "source": []
  }
 ],
 "metadata": {
  "kernelspec": {
   "display_name": "Python 3 (ipykernel)",
   "language": "python",
   "name": "python3"
  },
  "language_info": {
   "codemirror_mode": {
    "name": "ipython",
    "version": 3
   },
   "file_extension": ".py",
   "mimetype": "text/x-python",
   "name": "python",
   "nbconvert_exporter": "python",
   "pygments_lexer": "ipython3",
   "version": "3.9.7"
  }
 },
 "nbformat": 4,
 "nbformat_minor": 5
}
