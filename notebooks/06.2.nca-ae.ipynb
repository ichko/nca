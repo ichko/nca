{
 "cells": [
  {
   "cell_type": "code",
   "execution_count": 1,
   "id": "1244ed88",
   "metadata": {
    "scrolled": true
   },
   "outputs": [],
   "source": [
    "# !poetry run pip install -U git+https://github.com/ichko/aesthetic-tensor"
   ]
  },
  {
   "cell_type": "code",
   "execution_count": 122,
   "id": "e6d7cfc8",
   "metadata": {},
   "outputs": [
    {
     "name": "stdout",
     "output_type": "stream",
     "text": [
      "The autoreload extension is already loaded. To reload it, use:\n",
      "  %reload_ext autoreload\n"
     ]
    }
   ],
   "source": [
    "%load_ext autoreload\n",
    "%autoreload 2\n",
    "\n",
    "import numpy as np\n",
    "import matplotlib.pyplot as plt\n",
    "\n",
    "import torch\n",
    "import torch.nn as nn\n",
    "import torch.nn.functional as F\n",
    "from kornia import augmentation\n",
    "\n",
    "from tqdm.auto import tqdm\n",
    "import base64\n",
    "import matplotlib\n",
    "from io import BytesIO\n",
    "from PIL import Image\n",
    "from IPython.display import HTML\n",
    "import mediapy as mpy\n",
    "import os"
   ]
  },
  {
   "cell_type": "code",
   "execution_count": 123,
   "id": "ec535406",
   "metadata": {},
   "outputs": [],
   "source": [
    "from aesthetic_tensor import monkey_patch_torch\n",
    "monkey_patch_torch()"
   ]
  },
  {
   "cell_type": "code",
   "execution_count": 124,
   "id": "0a887b34",
   "metadata": {},
   "outputs": [],
   "source": [
    "from nca.utils import conv_same"
   ]
  },
  {
   "cell_type": "code",
   "execution_count": 125,
   "id": "f7b02421",
   "metadata": {},
   "outputs": [],
   "source": [
    "W, H = 128, 64"
   ]
  },
  {
   "cell_type": "code",
   "execution_count": 126,
   "id": "29fb41e2",
   "metadata": {},
   "outputs": [
    {
     "data": {
      "text/html": [
       "<img src=\"data:image/png;base64, iVBORw0KGgoAAAANSUhEUgAAAQAAAACACAYAAADktbcKAAAB8klEQVR4nO3YwW3CQBRF0RBRBVWkiEg0QLN0QRW0kay88Roz4t9zKpiFdf1mTr+n298XkPS9+gDAOgIAYQIAYQIAYQIAYQIAYQIAYQIAYQIAYQIAYQIAYQIAYQIAYQIAYQIAYQIAYQIAYQIAYQIAYQIAYQIAYQIAYQIAYQIAYQIAYQIAYQIAYQIAYQIAYQIAYQIAYQIAYQIAYQIAYQIAYQIAYQIAYQIAYQIAYQIAYQIAYQIAYQIAYQIAYQIAYQIAYQIAYQIAYQIAYQIAYQIAYQIAYQIAYQIAYQIAYQIAYQIAYefVBzja/flYfQQGuF5+Vh/hEBYAhI1bAP74HGH/XU1ZBBYAhAkAhAkAhI15A3D355227+3T3wIsAAgbswC2ElsCvMOn//k3FgCECQCECQCEjXkD2OzvZt4EeIUpd/49CwDCxi2AvanlhlewACBMACBMACBMACBMACBMACBMACBMACBMACBMACBMACBMACBMACBMACBMACBMACBMACBMACBMACBMACBMACBMACBMACBMACBMACBMACBMACBMACBMACBMACBMACBMACBMACBMACBMACBMACBMACBMACBMACBMACBMACBMACBMACBMACBMACBMACBMACBMACBMACBMACBMACBMACBMACBMACBMACDsHzYqGDWQGWgQAAAAAElFTkSuQmCC\" alt=\"img\"/>"
      ],
      "text/plain": [
       "<aesthetic_tensor.tensor.ImageWrapper at 0x7882217c3eb0>"
      ]
     },
     "execution_count": 126,
     "metadata": {},
     "output_type": "execute_result"
    }
   ],
   "source": [
    "import cv2\n",
    "\n",
    "pad = 28\n",
    "screen = np.zeros((H, W))\n",
    "cv2.line(screen, [pad, H // 2], [W - pad - 0, H // 2], color=1, thickness=5)\n",
    "\n",
    "line_screen = torch.tensor(screen, dtype=torch.float32)\n",
    "line_screen.ae.zoom(2).img"
   ]
  },
  {
   "cell_type": "code",
   "execution_count": 127,
   "id": "fa411ce5",
   "metadata": {},
   "outputs": [
    {
     "data": {
      "text/html": [
       "<img src=\"data:image/png;base64, iVBORw0KGgoAAAANSUhEUgAAAQAAAACACAYAAADktbcKAAABy0lEQVR4nO3csQ3CAAwAQYKYIlNkCKQswLLZIlNkDViAGiP9XenK1cuVl+fyet/IOa7z63xft5/uwaz79ALAHAGAMAGAMAGAMAGAMAGAMAGAMAGAMAGAMAGAMAGAMAGAMAGAMAGAMAGAMAGAMAGAMAGAMAGAMAGAMAGAMAGAMAGAMAGAMAGAMAGAMAGAMAGAMAGAMAGAMAGAMAGAMAGAMAGAMAGAMAGAMAGAMAGAMAGAMAGAMAGAMAGAMAGAMAGAMAGAMAGAMAGAMAGAMAGAMAGAMAGAMAGAMAGAMAGAMAGAsMf0AszY1216Bf6ACwDCBADCBADCBADCBADCBADCBADCBADCBADCBADCBADCBADCBADCBADCBADCBADCBADCfASKOq7z69ynoBYXAIQJAIQJAIQJAIQJAIQJAIQJAIQJAIQJAIQJAIQJAIQJAIQJAIQJAIQJAIQJAIQJAIQJAIQJAIQJAIQJAIQJAIQJAIQJAIQJAIQJAIQJAIQJAIQJAIQJAIQJAIQJAIQJAIQJAIQJAIQJAIQJAIQJAIQJAIQJAIQJAIQJAIQJAIQJAIQJAIQJAIQJAIQJAIQJAIQJAIQJAIQJAIQJAIR9ABV7CS0QJznuAAAAAElFTkSuQmCC\" alt=\"img\"/>"
      ],
      "text/plain": [
       "<aesthetic_tensor.tensor.ImageWrapper at 0x7882085823e0>"
      ]
     },
     "execution_count": 127,
     "metadata": {},
     "output_type": "execute_result"
    }
   ],
   "source": [
    "screen = np.zeros((H, W))\n",
    "pad = 5\n",
    "\n",
    "cv2.line(screen, [W // 2, 0], [W // 2, H // 2 - pad], color=1, thickness=1)\n",
    "cv2.line(screen, [W // 2 + 1, 0], [W // 2 + 1, H // 2 - pad], color=1, thickness=1)\n",
    "cv2.line(screen, [W // 2 - 1, 0], [W // 2 - 1, H // 2 - pad], color=1, thickness=1)\n",
    "\n",
    "cv2.line(screen, [W // 2, H // 2 + pad], [W // 2, H], color=1, thickness=1)\n",
    "cv2.line(screen, [W // 2 + 1, H // 2 + pad], [W // 2 + 1, H], color=1, thickness=1)\n",
    "cv2.line(screen, [W // 2 - 1, H // 2 + pad], [W // 2 - 1, H], color=1, thickness=1)\n",
    "\n",
    "divider_screen = torch.tensor(screen, dtype=torch.float32)\n",
    "divider_screen.ae.zoom(2).img"
   ]
  },
  {
   "cell_type": "code",
   "execution_count": null,
   "id": "106338cd",
   "metadata": {},
   "outputs": [],
   "source": []
  },
  {
   "cell_type": "code",
   "execution_count": 128,
   "id": "c3f0de77",
   "metadata": {},
   "outputs": [],
   "source": [
    "class SimpleNCA(nn.Module):\n",
    "    def __init__(self) -> None:\n",
    "        super().__init__()\n",
    "        perc = 3\n",
    "        hid = 128\n",
    "        self.chans = 16\n",
    "\n",
    "        self.seed = nn.Parameter(torch.rand(self.chans, 64, 64) * 2 - 1)\n",
    "        self.kernel = nn.Sequential(\n",
    "            nn.Dropout2d(p=0.1),\n",
    "            conv_same(self.chans, perc * self.chans, ks=5, bias=True, padding_mode=\"circular\"),\n",
    "            nn.BatchNorm2d(perc * self.chans),\n",
    "        )\n",
    "        \n",
    "        sobel_x = torch.tensor([[-1.0,0.0,1.0],[-2.0,0.0,2.0],[-1.0,0.0,1.0]])/8\n",
    "        sobel_y = torch.tensor([[1.0,2.0,1.0],[0.0,0.0,0.0],[-1.0,-2.0,-1.0]])/8\n",
    "        identity = torch.tensor([[0.0,0.0,0.0],[0.0,1.0,0.0],[0.0,0.0,0.0]])\n",
    "        lap = torch.tensor([[1.0,2.0,1.0],[2.0,-12,2.0],[1.0,2.0,1.0]])\n",
    "\n",
    "        all_filters = torch.stack((identity, sobel_x, sobel_y))\n",
    "        all_filters_batch = all_filters.repeat(self.chans, 1, 1).unsqueeze(1)\n",
    "        self.all_filters_batch = nn.Parameter(all_filters_batch, requires_grad=False)\n",
    "        \n",
    "        self.rule = nn.Sequential(\n",
    "            conv_same(perc * self.chans, hid, ks=1, bias=True),\n",
    "            nn.ReLU(),\n",
    "            conv_same(hid, self.chans, ks=1, bias=False),\n",
    "        )\n",
    "\n",
    "        nn.init.zeros_(self.rule[-1].weight)\n",
    "\n",
    "    def forward(self, x, steps=1):\n",
    "        seq = [x]\n",
    "        device = next(self.parameters()).device\n",
    "        x *= 1 - divider_screen.to(device)\n",
    "        for i in range(steps):\n",
    "            old_x = x\n",
    "            x = F.conv2d(\n",
    "#                 F.pad(x, (1, 1, 1, 1), \"circular\"),\n",
    "                F.pad(x, (1, 1, 1, 1), \"constant\", 0),\n",
    "                self.all_filters_batch,\n",
    "                stride=1,\n",
    "                padding=0,\n",
    "                groups=self.chans,\n",
    "            )\n",
    "            x = self.rule(x)\n",
    "            x = old_x + x\n",
    "            x *= 1 - divider_screen.to(device)\n",
    "            \n",
    "            seq.append(x)\n",
    "\n",
    "        seq = torch.stack(seq, axis=1)\n",
    "        return seq"
   ]
  },
  {
   "cell_type": "code",
   "execution_count": 129,
   "id": "faa4b364",
   "metadata": {},
   "outputs": [],
   "source": [
    "import torchsummary"
   ]
  },
  {
   "cell_type": "code",
   "execution_count": 130,
   "id": "194147e7",
   "metadata": {},
   "outputs": [],
   "source": [
    "nca = SimpleNCA().to(\"cpu\")"
   ]
  },
  {
   "cell_type": "code",
   "execution_count": 131,
   "id": "e0ccf5e2",
   "metadata": {},
   "outputs": [
    {
     "data": {
      "text/plain": [
       "\u001b[1mfloat32\u001b[0m<\u001b[1m4, 21, 16, 64, 128\u001b[0m>∈[\u001b[1m-1.000, 1.000\u001b[0m] | μ=\u001b[1m0.244\u001b[0m, σ=\u001b[1m0.591\u001b[0m"
      ]
     },
     "execution_count": 131,
     "metadata": {},
     "output_type": "execute_result"
    }
   ],
   "source": [
    "inp1 = torch.rand(2, nca.chans, H, W) * 2 - 1\n",
    "inp2 = torch.zeros(1, nca.chans, H, W)\n",
    "inp2[0, 0, 32, 32] = 1\n",
    "\n",
    "inp3 = torch.ones(1, nca.chans, H, W)\n",
    "inp3[0, 0, 32, 32] = 0\n",
    "\n",
    "inp = torch.cat([inp1, inp2, inp3])\n",
    "\n",
    "out = nca(inp, steps=20)\n",
    "out.ae"
   ]
  },
  {
   "cell_type": "code",
   "execution_count": 132,
   "id": "20a8e38d",
   "metadata": {},
   "outputs": [
    {
     "name": "stdout",
     "output_type": "stream",
     "text": [
      "----------------------------------------------------------------\n",
      "        Layer (type)               Output Shape         Param #\n",
      "================================================================\n",
      "            Conv2d-1         [-1, 128, 64, 128]           6,272\n",
      "              ReLU-2         [-1, 128, 64, 128]               0\n",
      "            Conv2d-3          [-1, 16, 64, 128]           2,048\n",
      "================================================================\n",
      "Total params: 8,320\n",
      "Trainable params: 8,320\n",
      "Non-trainable params: 0\n",
      "----------------------------------------------------------------\n",
      "Input size (MB): 0.50\n",
      "Forward/backward pass size (MB): 17.00\n",
      "Params size (MB): 0.03\n",
      "Estimated Total Size (MB): 17.53\n",
      "----------------------------------------------------------------\n"
     ]
    }
   ],
   "source": [
    "torchsummary.summary(nca.to(\"cuda\"), input_size=inp1.size()[1:])"
   ]
  },
  {
   "cell_type": "code",
   "execution_count": 133,
   "id": "f8b1fe89",
   "metadata": {},
   "outputs": [
    {
     "data": {
      "text/html": [
       "<img src=\"data:image/gif;base64,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\" />"
      ],
      "text/plain": [
       "<aesthetic_tensor.gif.GIF at 0x78821774fe80>"
      ]
     },
     "execution_count": 133,
     "metadata": {},
     "output_type": "execute_result"
    }
   ],
   "source": [
    "out.ae.zoom(3).grid(ncols=4, pad=4)[:, 0].gif(fps=24)"
   ]
  },
  {
   "cell_type": "code",
   "execution_count": 134,
   "id": "332d4c68",
   "metadata": {},
   "outputs": [
    {
     "data": {
      "text/plain": [
       "\u001b[1mfloat32\u001b[0m<\u001b[1m4, 21, 16, 64, 128\u001b[0m>∈[\u001b[1m-1.000, 1.000\u001b[0m] | μ=\u001b[1m0.244\u001b[0m, σ=\u001b[1m0.591\u001b[0m"
      ]
     },
     "execution_count": 134,
     "metadata": {},
     "output_type": "execute_result"
    }
   ],
   "source": [
    "out.ae"
   ]
  },
  {
   "cell_type": "code",
   "execution_count": 135,
   "id": "d4454c7a",
   "metadata": {},
   "outputs": [],
   "source": [
    "from torchvision.datasets.mnist import MNIST\n",
    "from torch.utils.data import DataLoader\n",
    "from torchvision.transforms import ToTensor\n",
    "from torchdata.datapipes.iter import IterableWrapper"
   ]
  },
  {
   "cell_type": "code",
   "execution_count": 136,
   "id": "f818203f",
   "metadata": {},
   "outputs": [],
   "source": [
    "num_classes = 10\n",
    "ds = MNIST(root=\"./.data\", download=True, transform=ToTensor(), train=True)"
   ]
  },
  {
   "cell_type": "code",
   "execution_count": 137,
   "id": "734e0a21",
   "metadata": {},
   "outputs": [
    {
     "name": "stderr",
     "output_type": "stream",
     "text": [
      "/home/iz/.cache/pypoetry/virtualenvs/nca-ar8j7Liq-py3.10/lib/python3.10/site-packages/torch/utils/data/datapipes/utils/common.py:145: UserWarning: Lambda function is not supported by pickle, please use regular python function or functools.partial instead.\n",
      "  warnings.warn(\n",
      "/home/iz/.cache/pypoetry/virtualenvs/nca-ar8j7Liq-py3.10/lib/python3.10/site-packages/torch/utils/data/graph_settings.py:90: UserWarning: `shuffle=True` was set, but the datapipe does not contain a `Shuffler`. Adding one at the end. Be aware that the default buffer size might not be sufficient for your task.\n",
      "  warnings.warn(\n"
     ]
    }
   ],
   "source": [
    "bs = 8\n",
    "dl = DataLoader(IterableWrapper(ds).filter(lambda x: x[1] < num_classes), batch_size=bs, shuffle=True)"
   ]
  },
  {
   "cell_type": "code",
   "execution_count": 138,
   "id": "a401df50",
   "metadata": {},
   "outputs": [],
   "source": [
    "batch = next(iter(dl))"
   ]
  },
  {
   "cell_type": "code",
   "execution_count": 139,
   "id": "f13caa2a",
   "metadata": {},
   "outputs": [
    {
     "data": {
      "text/plain": [
       "array([ 0, 10, 20, 30, 40, 50, 60, 70, 80, 90])"
      ]
     },
     "execution_count": 139,
     "metadata": {},
     "output_type": "execute_result"
    }
   ],
   "source": [
    "np.arange(0, 100, 10)"
   ]
  },
  {
   "cell_type": "code",
   "execution_count": 140,
   "id": "d645230b",
   "metadata": {},
   "outputs": [],
   "source": [
    "def map_input(dl):\n",
    "    it = iter(dl)\n",
    "    for x, y in it:\n",
    "        bs, _, h, w = x.shape\n",
    "        c = nca.chans\n",
    "        inp_screen = torch.zeros(bs, c, H, W)\n",
    "        pad = 30\n",
    "        inp_screen[\n",
    "            :, :1,\n",
    "            H // 2 - h // 2:H // 2 + h // 2,\n",
    "            pad - w // 2:pad + w // 2,\n",
    "        ] = x\n",
    "        outs = []\n",
    "        for t in np.arange(30, 100, 5):\n",
    "            pad = t\n",
    "            \n",
    "            out_screen = torch.zeros(bs, 1, H, W)\n",
    "            out_screen[\n",
    "                :, :1,\n",
    "                H // 2 - h // 2:H // 2 + h // 2,\n",
    "                pad - w // 2:pad + w // 2,\n",
    "            ] = x\n",
    "            outs.append(out_screen)\n",
    "        yield {\"inp\": inp_screen, \"out\": outs, \"cls\": y}"
   ]
  },
  {
   "cell_type": "code",
   "execution_count": 142,
   "id": "a38c0d77",
   "metadata": {},
   "outputs": [
    {
     "name": "stdout",
     "output_type": "stream",
     "text": [
      "14\n"
     ]
    },
    {
     "data": {
      "text/html": [
       "<img src=\"data:image/png;base64, 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\" alt=\"img\"/>"
      ],
      "text/plain": [
       "<aesthetic_tensor.tensor.ImageWrapper at 0x788219552e30>"
      ]
     },
     "execution_count": 142,
     "metadata": {},
     "output_type": "execute_result"
    }
   ],
   "source": [
    "gen = map_input(dl)\n",
    "batch = next(gen)\n",
    "x, y = batch[\"inp\"], batch[\"out\"]\n",
    "print(len(y))\n",
    "y = y[-1]\n",
    "\n",
    "torch.cat([x[:8, :1], y[:8, :1]]).ae.cmap(dim=2).grid()[0, :3].img"
   ]
  },
  {
   "cell_type": "code",
   "execution_count": 143,
   "id": "44536f6c",
   "metadata": {},
   "outputs": [
    {
     "data": {
      "text/plain": [
       "\u001b[1mfloat32\u001b[0m<\u001b[1m8, 2, 16, 64, 128\u001b[0m>∈[\u001b[1m0.000, 1.000\u001b[0m] | μ=\u001b[1m0.001\u001b[0m, σ=\u001b[1m0.025\u001b[0m"
      ]
     },
     "execution_count": 143,
     "metadata": {},
     "output_type": "execute_result"
    }
   ],
   "source": [
    "nca.to(\"cpu\")(x).ae"
   ]
  },
  {
   "cell_type": "code",
   "execution_count": 144,
   "id": "7604c646",
   "metadata": {},
   "outputs": [
    {
     "data": {
      "text/plain": [
       "\u001b[1mfloat32\u001b[0m<\u001b[1m4, 21, 16, 64, 128\u001b[0m>∈[\u001b[1m-1.000, 1.000\u001b[0m] | μ=\u001b[1m0.244\u001b[0m, σ=\u001b[1m0.591\u001b[0m"
      ]
     },
     "execution_count": 144,
     "metadata": {},
     "output_type": "execute_result"
    }
   ],
   "source": [
    "out.ae"
   ]
  },
  {
   "cell_type": "code",
   "execution_count": 145,
   "id": "54271876",
   "metadata": {},
   "outputs": [],
   "source": [
    "def optim_step(i, nca, batch, optim, device, grad_clip_val=0.1):\n",
    "    x, ys = batch[\"inp\"], batch[\"out\"]\n",
    "    x = x.to(device)\n",
    "    ys = [y.to(device) for y in ys]\n",
    "    N = len(ys)\n",
    "    bs = x.shape[0]\n",
    "    out = nca(x, steps=80)\n",
    "\n",
    "    loss = 0\n",
    "    line_target = line_screen.unsqueeze(0).unsqueeze(0).repeat(8, 1, 1, 1).to(device)\n",
    "    mid_sim_out = out[:, 35:36, 0]\n",
    "\n",
    "    y = ys[-1]\n",
    "    loss += F.mse_loss(mid_sim_out, y + line_target)\n",
    "    target_out = out[:, -25:, :1].mean(axis=[1])\n",
    "    loss += F.mse_loss(target_out, y)\n",
    "\n",
    "    if nca.training:\n",
    "        optim.zero_grad()\n",
    "        loss.backward()\n",
    "        optim.step()\n",
    "    \n",
    "    return loss, out"
   ]
  },
  {
   "cell_type": "code",
   "execution_count": 146,
   "id": "0cc3f572",
   "metadata": {},
   "outputs": [],
   "source": [
    "from copy import deepcopy"
   ]
  },
  {
   "cell_type": "code",
   "execution_count": 147,
   "id": "c1331ea7",
   "metadata": {},
   "outputs": [],
   "source": [
    "lr = 0.0001\n",
    "target_nca = deepcopy(nca)\n",
    "history = []"
   ]
  },
  {
   "cell_type": "code",
   "execution_count": 148,
   "id": "08f03a9f",
   "metadata": {},
   "outputs": [],
   "source": [
    "# with open(\"save.pkl\", \"rb\") as fp:\n",
    "#     target_nca = torch.load(fp)"
   ]
  },
  {
   "cell_type": "code",
   "execution_count": 149,
   "id": "eef8dedc",
   "metadata": {},
   "outputs": [],
   "source": [
    "optim = torch.optim.Adam(target_nca.parameters(), lr=lr)"
   ]
  },
  {
   "cell_type": "code",
   "execution_count": 150,
   "id": "2ab75e21",
   "metadata": {},
   "outputs": [],
   "source": [
    "device = \"cuda\"\n",
    "target_nca = target_nca.to(device)"
   ]
  },
  {
   "cell_type": "code",
   "execution_count": 97,
   "id": "022961d9",
   "metadata": {},
   "outputs": [],
   "source": [
    "target_nca = target_nca.eval()\n",
    "with torch.no_grad():\n",
    "    _ = optim_step(0, target_nca, batch, optim, device)"
   ]
  },
  {
   "cell_type": "code",
   "execution_count": 98,
   "id": "83a3b6dc",
   "metadata": {},
   "outputs": [
    {
     "data": {
      "text/plain": [
       "<torch.autograd.anomaly_mode.set_detect_anomaly at 0x788200d4ca30>"
      ]
     },
     "execution_count": 98,
     "metadata": {},
     "output_type": "execute_result"
    }
   ],
   "source": [
    "torch.autograd.set_detect_anomaly(True)"
   ]
  },
  {
   "cell_type": "code",
   "execution_count": 99,
   "id": "51f8c792",
   "metadata": {},
   "outputs": [],
   "source": [
    "save_dir = \"checkpoints-ae2\"\n",
    "img_dir = \"imgs-ae2\"\n",
    "os.makedirs(save_dir, exist_ok=True)\n",
    "os.makedirs(img_dir, exist_ok=True)"
   ]
  },
  {
   "cell_type": "code",
   "execution_count": 100,
   "id": "1dc7df87",
   "metadata": {},
   "outputs": [],
   "source": [
    "# !rm -rf {save_dir}\n",
    "# !rm -rf {img_dir}"
   ]
  },
  {
   "cell_type": "code",
   "execution_count": 101,
   "id": "9c09ac9f",
   "metadata": {
    "scrolled": false
   },
   "outputs": [
    {
     "data": {
      "application/vnd.jupyter.widget-view+json": {
       "model_id": "00e3aa90699d496498afaa77dac83a6d",
       "version_major": 2,
       "version_minor": 0
      },
      "text/plain": [
       "Loss: 0.0121972058:  95%|#########4| 75750/80000 [7:55:49<25:30,  2.78it/s]"
      ]
     },
     "metadata": {},
     "output_type": "display_data"
    },
    {
     "data": {
      "image/png": "[encoded data removed]",
      "text/plain": [
       "<Figure size 640x480 with 1 Axes>"
      ]
     },
     "metadata": {},
     "output_type": "display_data"
    },
    {
     "name": "stderr",
     "output_type": "stream",
     "text": [
      "IOPub message rate exceeded.\n",
      "The notebook server will temporarily stop sending output\n",
      "to the client in order to avoid crashing it.\n",
      "To change this limit, set the config variable\n",
      "`--NotebookApp.iopub_msg_rate_limit`.\n",
      "\n",
      "Current values:\n",
      "NotebookApp.iopub_msg_rate_limit=1000.0 (msgs/sec)\n",
      "NotebookApp.rate_limit_window=3.0 (secs)\n",
      "\n"
     ]
    }
   ],
   "source": [
    "from IPython.display import clear_output\n",
    "\n",
    "E = len(history)\n",
    "pbar = tqdm(range(E, E + 80_000))\n",
    "\n",
    "target_nca = target_nca.train()\n",
    "for i in pbar:\n",
    "    try:\n",
    "        batch = next(gen)\n",
    "    except StopIteration as err:\n",
    "        gen = map_input(dl)\n",
    "        continue\n",
    "\n",
    "    loss, out = optim_step(i, target_nca, batch, optim, device)\n",
    "    pbar.set_description(f\"Loss: {loss:.10f}\")\n",
    "    history.append(loss.item())\n",
    "\n",
    "    if i % 250 == 0:\n",
    "        clear_output(wait=True)\n",
    "        display(pbar.container)\n",
    "        plt.plot(history)\n",
    "        plt.yscale(\"log\")\n",
    "        plt.show()\n",
    "\n",
    "        with torch.no_grad():\n",
    "            t = torch.tensor(out[:8, :, 0].ae.cmap(\"bwr\", dim=2).raw)\n",
    "            t = t * (255 - 255 * divider_screen[None, None, None])\n",
    "            gif = t.ae.grid(ncols=4, pad=4)[:, :3].zoom(3).gif(fps=24)\n",
    "            gif.save(f\"{img_dir}/img_{i:06}.gif\")\n",
    "\n",
    "            with open(os.path.join(save_dir, f\"model-{i:05}-Lf{loss.item():0.6f}.pkl\"), \"wb+\") as fp:\n",
    "                torch.save(target_nca, fp)"
   ]
  },
  {
   "cell_type": "code",
   "execution_count": 73,
   "id": "f2727c41",
   "metadata": {},
   "outputs": [],
   "source": [
    "with torch.no_grad():\n",
    "    batch = next(gen)\n",
    "    target_nca = target_nca.eval()\n",
    "    loss, out = optim_step(0, target_nca, batch, optim, device)"
   ]
  },
  {
   "cell_type": "code",
   "execution_count": 74,
   "id": "5a73b7fa",
   "metadata": {},
   "outputs": [
    {
     "data": {
      "text/plain": [
       "\u001b[1muint8\u001b[0m<\u001b[1m8, 81, 4, 64, 128\u001b[0m>∈[\u001b[1m1.000, 255.000\u001b[0m] | μ=\u001b[1m103.083\u001b[0m, σ=\u001b[1m93.909\u001b[0m"
      ]
     },
     "execution_count": 74,
     "metadata": {},
     "output_type": "execute_result"
    }
   ],
   "source": [
    "out[:8, :, 0].ae.cmap(dim=2)"
   ]
  },
  {
   "cell_type": "code",
   "execution_count": 75,
   "id": "ee367020",
   "metadata": {},
   "outputs": [
    {
     "data": {
      "text/html": [
       "<img src=\"data:image/gif;base64,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\" />"
      ],
      "text/plain": [
       "<aesthetic_tensor.gif.GIF at 0x7882067fff40>"
      ]
     },
     "execution_count": 75,
     "metadata": {},
     "output_type": "execute_result"
    }
   ],
   "source": [
    "t = torch.tensor(out[:8, :, 0].ae.cmap(\"Greys\", dim=2).raw)\n",
    "t = t * (255 - 255 * divider_screen[None, None, None])\n",
    "t.ae.grid(ncols=4, pad=4)[:, :3].zoom(3).gif(fps=24)"
   ]
  },
  {
   "cell_type": "code",
   "execution_count": 76,
   "id": "4e316972",
   "metadata": {},
   "outputs": [],
   "source": [
    "# with open(\"./save.pkl\", \"wb+\") as fp:\n",
    "#     torch.save(target_nca, fp)"
   ]
  },
  {
   "cell_type": "code",
   "execution_count": 77,
   "id": "a84d0364",
   "metadata": {},
   "outputs": [],
   "source": [
    "import gc\n",
    "def clean_mem():\n",
    "    torch.cuda.empty_cache()\n",
    "    gc.collect()\n",
    "    \n",
    "clean_mem()"
   ]
  },
  {
   "cell_type": "code",
   "execution_count": 78,
   "id": "1cc51ce6",
   "metadata": {},
   "outputs": [],
   "source": [
    "# checkpoint_names = os.listdir(\"./checkpoints2/\")\n",
    "# losses = [float(c.split(\"Lf\")[1].split(\".pkl\")[0]) for c in checkpoint_names]\n",
    "\n",
    "# ml = min(losses)\n",
    "# min_loss_checkpoint_name = [c for c in checkpoint_names if str(ml) in c][0]\n",
    "# min_loss_nca = torch.load(f\"./checkpoints2/{min_loss_checkpoint_name}\")\n",
    "\n",
    "# min_loss_checkpoint_name"
   ]
  },
  {
   "cell_type": "code",
   "execution_count": 79,
   "id": "b3d8ddf1",
   "metadata": {},
   "outputs": [],
   "source": [
    "# target_nca = min_loss_nca"
   ]
  },
  {
   "cell_type": "code",
   "execution_count": 80,
   "id": "a9efa1f5",
   "metadata": {},
   "outputs": [],
   "source": [
    "device = \"cuda\""
   ]
  },
  {
   "cell_type": "code",
   "execution_count": 81,
   "id": "1c603ff9",
   "metadata": {},
   "outputs": [
    {
     "data": {
      "application/vnd.jupyter.widget-view+json": {
       "model_id": "ffb4900fa6f7479caa0c7309a25107cd",
       "version_major": 2,
       "version_minor": 0
      },
      "text/plain": [
       "  0%|          | 0/10 [00:00<?, ?it/s]"
      ]
     },
     "metadata": {},
     "output_type": "display_data"
    }
   ],
   "source": [
    "cls_outs = {}\n",
    "target_nca.eval()\n",
    "with torch.inference_mode():\n",
    "    for i in tqdm(range(10)):\n",
    "        batch = next(gen)\n",
    "        x = batch[\"inp\"].to(\"cuda\")\n",
    "        cls = batch[\"cls\"]\n",
    "        out = target_nca(x, steps=100)\n",
    "        for c in range(num_classes):\n",
    "            cls_mask = cls.to(\"cuda\") == c\n",
    "            if cls_mask.sum() > 0:\n",
    "                cls_out = out[cls_mask]\n",
    "                cls_outs.setdefault(c, []).append(cls_out)"
   ]
  },
  {
   "cell_type": "code",
   "execution_count": 82,
   "id": "af4036cb",
   "metadata": {},
   "outputs": [],
   "source": [
    "out = []\n",
    "for i in range(num_classes):\n",
    "    o = cls_outs[i][0][0, :, :]\n",
    "    out.append(o)\n",
    "out = torch.stack(out)"
   ]
  },
  {
   "cell_type": "code",
   "execution_count": 86,
   "id": "0b525929",
   "metadata": {},
   "outputs": [],
   "source": [
    "t = torch.tensor(out[:10, :, 0].ae.cmap(\"bwr\", dim=2).raw)\n",
    "t = t * (255 - 255 * divider_screen[None, None, None])\n",
    "t.ae.grid(ncols=5, pad=2)[:, :3].zoom(3).gif(fps=24)"
   ]
  },
  {
   "cell_type": "code",
   "execution_count": 84,
   "id": "9581e01c",
   "metadata": {},
   "outputs": [],
   "source": [
    "t = torch.tensor(out[:10, :, :16].ae.cmap(\"bwr\", dim=2).raw)\n",
    "t = t * (255 - 255 * divider_screen[None, None, None, None])"
   ]
  },
  {
   "cell_type": "code",
   "execution_count": 87,
   "id": "348a6ff9",
   "metadata": {},
   "outputs": [],
   "source": [
    "t.permute(0, 3, 1, 2, 4, 5).ae.grid(ncols=1, pad=1).grid(ncols=8, pad=1)[:, :3].zoom(1).gif(fps=20)"
   ]
  },
  {
   "cell_type": "code",
   "execution_count": null,
   "id": "234ae0a0",
   "metadata": {},
   "outputs": [],
   "source": []
  },
  {
   "cell_type": "code",
   "execution_count": null,
   "id": "a6614730",
   "metadata": {},
   "outputs": [],
   "source": [
    "num_outs = []\n",
    "for cls in range(num_classes):\n",
    "    max_val = -1\n",
    "    max_id = -1\n",
    "    max_out = None\n",
    "    for outs, t in cls_outs[cls]:\n",
    "        if outs.shape[0] == 0:\n",
    "            continue\n",
    "        vals = -((outs[:, -1, 0] - t) ** 2).mean([1, 2])\n",
    "        argmax = vals.argmax()\n",
    "        if vals[argmax] > max_val:\n",
    "            max_val = vals[argmax]\n",
    "            max_id = argmax\n",
    "            max_out = outs[argmax]\n",
    "\n",
    "    num_outs.append(max_out)\n",
    "\n",
    "num_outs = torch.stack(num_outs)\n",
    "num_outs.ae"
   ]
  },
  {
   "cell_type": "code",
   "execution_count": null,
   "id": "8d4a989e",
   "metadata": {},
   "outputs": [],
   "source": [
    "num_outs[0:10, [0, 10, 20, 30, 40, 50, -30], 0].ae.cmap(\"viridis\", dim=-3)\\\n",
    "    .grid(ncols=10, pad=0).grid(ncols=1, pad=0)[:3].img"
   ]
  },
  {
   "cell_type": "code",
   "execution_count": null,
   "id": "e8bae116",
   "metadata": {},
   "outputs": [],
   "source": [
    "num_outs[1, [0, 10, 20, 30, 40, 50, -30]][:, [0,3,4,11,13,15]].ae.grid(ncols=7).grid(ncols=1).zoom(1).img"
   ]
  },
  {
   "cell_type": "code",
   "execution_count": null,
   "id": "fee82ce1",
   "metadata": {},
   "outputs": [],
   "source": [
    "torch.cat([\n",
    "    num_outs[:, :1].repeat((1, 20, 1, 1, 1)),\n",
    "    num_outs,\n",
    "], dim=1).ae.zoom(3).grid(ncols=10, pad=2)[:, 0]"
   ]
  },
  {
   "cell_type": "code",
   "execution_count": null,
   "id": "5081927b",
   "metadata": {},
   "outputs": [],
   "source": [
    "vid = torch.cat([\n",
    "    num_outs[:, :1].repeat((1, 20, 1, 1, 1)),\n",
    "    num_outs,\n",
    "], dim=1).ae.zoom(1).grid(ncols=3, pad=2)"
   ]
  },
  {
   "cell_type": "code",
   "execution_count": null,
   "id": "7719b221",
   "metadata": {},
   "outputs": [],
   "source": [
    "vid.raw.shape"
   ]
  },
  {
   "cell_type": "code",
   "execution_count": null,
   "id": "6bb8fda3",
   "metadata": {},
   "outputs": [],
   "source": [
    "# mpy.show_video(vid.raw[:, :3], fps=60, border=True)"
   ]
  },
  {
   "cell_type": "code",
   "execution_count": null,
   "id": "7a219f9f",
   "metadata": {},
   "outputs": [],
   "source": []
  },
  {
   "cell_type": "code",
   "execution_count": null,
   "id": "cd720b1c",
   "metadata": {},
   "outputs": [],
   "source": [
    "paused = torch.cat([\n",
    "    num_outs[:, :1].repeat((1, 40, 1, 1, 1)),\n",
    "    num_outs,\n",
    "#     num_outs[:, -1:].repeat((1, 20, 1, 1, 1)),\n",
    "], dim=1)"
   ]
  },
  {
   "cell_type": "code",
   "execution_count": null,
   "id": "fdf346d6",
   "metadata": {},
   "outputs": [],
   "source": [
    "paused.ae"
   ]
  },
  {
   "cell_type": "code",
   "execution_count": null,
   "id": "fcda4dc4",
   "metadata": {},
   "outputs": [],
   "source": [
    "hid_vid = paused.permute(0, 2, 1, 3, 4)[:,[0,1,3,8,9,10,11,12,13,14]].ae \\\n",
    "    .grid(ncols=1).grid(ncols=10).zoom(1).cmap(\"viridis\")[:, :, :, :3]"
   ]
  },
  {
   "cell_type": "code",
   "execution_count": null,
   "id": "a86a4256",
   "metadata": {},
   "outputs": [],
   "source": [
    "hid_vid"
   ]
  },
  {
   "cell_type": "code",
   "execution_count": null,
   "id": "98e6e1ce",
   "metadata": {
    "scrolled": false
   },
   "outputs": [],
   "source": [
    "# mpy.show_video(hid_vid.raw, fps=60, border=True)"
   ]
  },
  {
   "cell_type": "code",
   "execution_count": null,
   "id": "d70d1d09",
   "metadata": {},
   "outputs": [],
   "source": [
    "colors = [\n",
    "    'tab:blue',\n",
    "    'tab:orange',\n",
    "    'tab:green',\n",
    "    'tab:red',\n",
    "    'tab:purple',\n",
    "    'tab:brown',\n",
    "    'tab:pink',\n",
    "    'tab:gray',\n",
    "    'tab:olive',\n",
    "    'tab:cyan',\n",
    "]"
   ]
  },
  {
   "cell_type": "code",
   "execution_count": null,
   "id": "07cfbdd6",
   "metadata": {},
   "outputs": [],
   "source": [
    "def plot_fun(out, frame_id=-1, batch_id=0):\n",
    "    f = frame_id\n",
    "    b = batch_id\n",
    "    out = out.detach().cpu()\n",
    "    bs, L, _, H, W = out.shape\n",
    "    im = out[b, f, 0]\n",
    "\n",
    "    vals_list = []\n",
    "    for cls in range(num_classes):\n",
    "        vals = out[b, :f, 0][:, screen == cls + 1].mean(axis=-1)\n",
    "        vals_list.append(vals)\n",
    "\n",
    "    bar_vals_list = []\n",
    "    for cls in range(num_classes):\n",
    "        bar_vals = out[b, f, 0][screen == cls + 1].mean(axis=-1)\n",
    "        bar_vals_list.append(bar_vals)\n",
    "    bar_vals = torch.stack(bar_vals_list)\n",
    "\n",
    "    fig, axs = plt.subplots(4, 1, figsize=(2, 8), dpi=100)\n",
    "    axs[0].imshow(out[b, 0, 0], interpolation='none', aspect=\"auto\", cmap=\"Greys_r\")\n",
    "    axs[1].imshow(out[b, frame_id, 0], interpolation='none', aspect=\"auto\", cmap=\"Greys_r\")\n",
    "\n",
    "    axs[0].set_xticks([])\n",
    "    axs[0].set_yticks([])\n",
    "    axs[1].set_xticks([])\n",
    "#     axs[1].set_xticks([])\n",
    "    axs[3].set_xticks([])\n",
    "    axs[1].set_yticks([])\n",
    "    axs[2].set_yticks([])\n",
    "    axs[3].set_yticks([])\n",
    "\n",
    "    for cls in range(num_classes):\n",
    "        c = colors[cls]\n",
    "        axs[1].contour(screen == cls + 1, colors=c, linewidths=3, alpha=0.9)\n",
    "        axs[2].plot(vals_list[cls], c=c)\n",
    "        axs[3].bar(range(num_classes), bar_vals, color=colors[:num_classes])\n",
    "\n",
    "    axs[0].set_aspect(1)\n",
    "    axs[1].set_aspect(1)\n",
    "    axs[2].axhline(1, color=\"tab:grey\", linestyle=\"--\", linewidth=0.5)\n",
    "    axs[2].axhline(0, color=\"tab:grey\", linestyle=\"--\", linewidth=0.5)\n",
    "    axs[2].set_xlim(0, L)\n",
    "    axs[2].set_ylim(-0.1, 1.1)\n",
    "\n",
    "    axs[3].set_ylim(0, 1)\n",
    "    axs[3].set_xticks(range(num_classes))\n",
    "\n",
    "    plt.tight_layout(pad=1)\n",
    "\n",
    "    plt.close()\n",
    "    return fig\n",
    "\n",
    "plot_fun(paused, -1, 0)"
   ]
  },
  {
   "cell_type": "code",
   "execution_count": null,
   "id": "665cbe73",
   "metadata": {
    "scrolled": true
   },
   "outputs": [],
   "source": [
    "L = paused.shape[1]\n",
    "figs_list = []\n",
    "for cls in tqdm(range(num_classes)):\n",
    "    figs = [plot_fun(paused, i, cls) for i in tqdm(range(0, L))]\n",
    "    figs_list.append(figs)"
   ]
  },
  {
   "cell_type": "code",
   "execution_count": null,
   "id": "51929ace",
   "metadata": {},
   "outputs": [],
   "source": [
    "def fig2img(fig):\n",
    "    \"\"\"Convert a Matplotlib figure to a PIL Image and return it\"\"\"\n",
    "    import io\n",
    "    buf = io.BytesIO()\n",
    "    fig.savefig(buf, bbox_inches=\"tight\", pad_inches=0.1)\n",
    "    buf.seek(0)\n",
    "    img = Image.open(buf)\n",
    "    return img"
   ]
  },
  {
   "cell_type": "code",
   "execution_count": null,
   "id": "e6c69744",
   "metadata": {},
   "outputs": [],
   "source": [
    "pils_list = []\n",
    "for figs in tqdm(figs_list):\n",
    "    pils = [fig2img(f) for f in tqdm(figs)]\n",
    "    pils_list.append(pils)"
   ]
  },
  {
   "cell_type": "code",
   "execution_count": null,
   "id": "30600429",
   "metadata": {},
   "outputs": [],
   "source": [
    "# pils_list[0][-1]"
   ]
  },
  {
   "cell_type": "code",
   "execution_count": null,
   "id": "9471888e",
   "metadata": {},
   "outputs": [],
   "source": [
    "cat_pils = [\n",
    "    Image.fromarray(\n",
    "        np.concatenate([\n",
    "            np.concatenate([np.array(ps[frame_id]) for ps in pils_list[:10]  ], axis=1),\n",
    "#             np.concatenate([np.array(ps[frame_id]) for ps in pils_list[5:10]], axis=1)\n",
    "        ], axis=0)\n",
    "    ) for frame_id in tqdm(range(len(pils_list[0])))\n",
    "]"
   ]
  },
  {
   "cell_type": "code",
   "execution_count": null,
   "id": "cb56dc6a",
   "metadata": {},
   "outputs": [],
   "source": [
    "cat_pils[-1]"
   ]
  },
  {
   "cell_type": "code",
   "execution_count": null,
   "id": "5fda81f6",
   "metadata": {},
   "outputs": [],
   "source": [
    "import numpy as np\n",
    "\n",
    "image_stack = np.ones((2, 2, 18))\n",
    "\n",
    "extra_left, extra_right = 1, 2\n",
    "extra_top, extra_bottom = 3, 1\n",
    "\n",
    "np.pad(image_stack, ((extra_top, extra_bottom), (extra_left, extra_right), (0, 0)),\n",
    "       mode='constant', constant_values=3).shape"
   ]
  },
  {
   "cell_type": "code",
   "execution_count": null,
   "id": "5ae1aec3",
   "metadata": {},
   "outputs": [],
   "source": [
    "def rescale_pil(pil, scale=1):\n",
    "    W, H = pil.size\n",
    "    new_W, new_H = int(W * scale), int(H * scale)\n",
    "    return pil.resize((new_W, new_H))"
   ]
  },
  {
   "cell_type": "code",
   "execution_count": null,
   "id": "f03df115",
   "metadata": {},
   "outputs": [],
   "source": [
    "rescale_pil(cat_pils[0], scale=0.9).size"
   ]
  },
  {
   "cell_type": "code",
   "execution_count": null,
   "id": "87257d4f",
   "metadata": {},
   "outputs": [],
   "source": [
    "def gif_from_pils(pils, fps):\n",
    "    pils = [rescale_pil(p, scale=0.9) for p in pils]\n",
    "    fp = BytesIO()\n",
    "    pils[0].save(\n",
    "        fp,\n",
    "        format=\"gif\",\n",
    "        save_all=True,\n",
    "        append_images=pils[1:],\n",
    "        duration=1000 / fps,\n",
    "        loop=0,\n",
    "    )\n",
    "    fp.seek(0)\n",
    "    \n",
    "    b64 = base64.b64encode(fp.read()).decode(\"ascii\")\n",
    "    html = f\"\"\"<img src=\"data:image/gif;base64,{b64}\" />\"\"\"\n",
    "    return HTML(html)"
   ]
  },
  {
   "cell_type": "code",
   "execution_count": null,
   "id": "df09702c",
   "metadata": {},
   "outputs": [],
   "source": [
    "len(cat_pils)"
   ]
  },
  {
   "cell_type": "code",
   "execution_count": null,
   "id": "70eb6d95",
   "metadata": {
    "scrolled": false
   },
   "outputs": [],
   "source": [
    "gif_from_pils(cat_pils[10:], fps=30)"
   ]
  },
  {
   "cell_type": "code",
   "execution_count": null,
   "id": "afb20473",
   "metadata": {},
   "outputs": [],
   "source": []
  },
  {
   "cell_type": "code",
   "execution_count": null,
   "id": "86609e3a",
   "metadata": {},
   "outputs": [],
   "source": []
  },
  {
   "cell_type": "code",
   "execution_count": null,
   "id": "54629f8c",
   "metadata": {},
   "outputs": [],
   "source": []
  },
  {
   "cell_type": "code",
   "execution_count": null,
   "id": "3102cc4e",
   "metadata": {},
   "outputs": [],
   "source": []
  },
  {
   "cell_type": "code",
   "execution_count": null,
   "id": "2c5fd2f3",
   "metadata": {},
   "outputs": [],
   "source": []
  }
 ],
 "metadata": {
  "kernelspec": {
   "display_name": "Python 3 (ipykernel)",
   "language": "python",
   "name": "python3"
  },
  "language_info": {
   "codemirror_mode": {
    "name": "ipython",
    "version": 3
   },
   "file_extension": ".py",
   "mimetype": "text/x-python",
   "name": "python",
   "nbconvert_exporter": "python",
   "pygments_lexer": "ipython3",
   "version": "3.10.12"
  }
 },
 "nbformat": 4,
 "nbformat_minor": 5
}
