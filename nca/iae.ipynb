{
 "cells": [
  {
   "cell_type": "code",
   "execution_count": 1,
   "id": "77c4153f",
   "metadata": {},
   "outputs": [],
   "source": [
    "from IPython.display import display, clear_output\n",
    "from ipywidgets import Output, VBox"
   ]
  },
  {
   "cell_type": "code",
   "execution_count": 2,
   "id": "13b8aa6e",
   "metadata": {},
   "outputs": [],
   "source": [
    "import matplotlib.pyplot as plt\n",
    "import matplotlib\n",
    "import numpy as np\n",
    "import time\n",
    "\n",
    "from tqdm.auto import tqdm\n",
    "\n",
    "import torchvision\n",
    "import torch.nn as nn\n",
    "import torch\n",
    "import torch.nn.functional as F\n",
    "\n",
    "import kornia"
   ]
  },
  {
   "cell_type": "code",
   "execution_count": null,
   "id": "710f0528",
   "metadata": {},
   "outputs": [],
   "source": []
  },
  {
   "cell_type": "code",
   "execution_count": 3,
   "id": "4db08883",
   "metadata": {},
   "outputs": [],
   "source": [
    "def printput(*args):\n",
    "    out = Output()\n",
    "    with out:\n",
    "        print(*args)\n",
    "    return out\n",
    "\n",
    "def dispput(*args):\n",
    "    out = Output()\n",
    "    with out:\n",
    "        display(*args)\n",
    "    return out\n",
    "\n",
    "class BaseModule(nn.Module):\n",
    "    @property\n",
    "    def device(self):\n",
    "        return next(self.parameters()).device"
   ]
  },
  {
   "cell_type": "code",
   "execution_count": 14,
   "id": "bd658011",
   "metadata": {},
   "outputs": [],
   "source": [
    "class IAE(BaseModule):\n",
    "    def __init__(self, msg_size, out_shape):\n",
    "        super().__init__()\n",
    "        out_size = np.prod(out_shape)\n",
    "        self.msg_size = msg_size\n",
    "        self.out_shape = out_shape\n",
    "        self.generator = nn.Sequential(\n",
    "            nn.Linear(msg_size, 16),\n",
    "            nn.LeakyReLU(negative_slope=0.02),\n",
    "            nn.Linear(16, 32),\n",
    "            nn.LeakyReLU(negative_slope=0.02),\n",
    "            nn.Linear(32, 64),\n",
    "            nn.LeakyReLU(negative_slope=0.02),\n",
    "            nn.Linear(64, out_size),\n",
    "            nn.Sigmoid(),\n",
    "        )\n",
    "        \n",
    "        self.decoder = nn.Sequential(\n",
    "            nn.Flatten(),\n",
    "            nn.Linear(out_size, 64),\n",
    "            nn.LeakyReLU(negative_slope=0.02),\n",
    "            nn.Linear(64, 32),\n",
    "            nn.LeakyReLU(negative_slope=0.02),\n",
    "            nn.Linear(32, 16),\n",
    "            nn.LeakyReLU(negative_slope=0.02),\n",
    "            nn.Linear(16, msg_size),\n",
    "        )\n",
    "        \n",
    "    def noise(self, img):\n",
    "        noise = nn.Sequential(\n",
    "            kornia.augmentation.RandomAffine(\n",
    "                degrees=10,\n",
    "                translate=[0.2, 0.2],\n",
    "                scale=[0.9, 1.1],\n",
    "                shear=[-10, 10],\n",
    "                p=1,\n",
    "            ),\n",
    "#             kornia.augmentation.RandomPerspective(0.5, p=1),\n",
    "        )\n",
    "        normal_noise = torch.randn_like(img) / 5\n",
    "\n",
    "        img = noise(img)\n",
    "        img = img + normal_noise\n",
    "        return img\n",
    "    \n",
    "    def sample_msg(self, bs):\n",
    "        return (torch.randn(bs, self.msg_size) > 0).float().to(self.device)\n",
    "    \n",
    "    def generate_img(self, msg):\n",
    "        img = self.generator(msg)\n",
    "        img = img.reshape(*(-1, *self.out_shape))\n",
    "        return img\n",
    "        \n",
    "    def forward(self, bs):\n",
    "        msg = self.sample_msg(bs)\n",
    "        img = self.generator(msg)\n",
    "        img = img.reshape(*(-1, *self.out_shape))\n",
    "        noise_img = self.noise(img)\n",
    "        pred_msg = self.decoder(noise_img)\n",
    "        return msg, img, pred_msg\n",
    "        \n",
    "    def optim_step(self, bs, lr):\n",
    "        msg, img, pred_msg = self(bs)\n",
    "        loss = F.mse_loss(pred_msg, msg)\n",
    "        \n",
    "        optim = torch.optim.Adam(self.parameters(), lr=lr)\n",
    "        optim.zero_grad()\n",
    "        loss.backward()\n",
    "        optim.step()\n",
    "        \n",
    "        return {'loss': loss.item()}"
   ]
  },
  {
   "cell_type": "code",
   "execution_count": 15,
   "id": "8368b495",
   "metadata": {},
   "outputs": [
    {
     "data": {
      "text/plain": [
       "torch.float32"
      ]
     },
     "execution_count": 15,
     "metadata": {},
     "output_type": "execute_result"
    }
   ],
   "source": [
    "torch.randn(10).dtype"
   ]
  },
  {
   "cell_type": "code",
   "execution_count": null,
   "id": "320ae70b",
   "metadata": {},
   "outputs": [],
   "source": []
  },
  {
   "cell_type": "code",
   "execution_count": 16,
   "id": "1da4904c",
   "metadata": {},
   "outputs": [],
   "source": [
    "DEVICE = 'cuda'"
   ]
  },
  {
   "cell_type": "code",
   "execution_count": 17,
   "id": "a9247f2a",
   "metadata": {},
   "outputs": [],
   "source": [
    "model = IAE(msg_size=4, out_shape=(1, 32, 32))\n",
    "model = model.to(DEVICE)"
   ]
  },
  {
   "cell_type": "code",
   "execution_count": 18,
   "id": "aecb2fe6",
   "metadata": {},
   "outputs": [],
   "source": [
    "msg = model.sample_msg(bs=40)"
   ]
  },
  {
   "cell_type": "code",
   "execution_count": 19,
   "id": "0c092225",
   "metadata": {},
   "outputs": [],
   "source": [
    "cmap = matplotlib.colormaps.get('viridis')"
   ]
  },
  {
   "cell_type": "code",
   "execution_count": 20,
   "id": "64278ed0",
   "metadata": {},
   "outputs": [
    {
     "data": {
      "application/vnd.jupyter.widget-view+json": {
       "model_id": "387ff23e817c46399202a6058723547f",
       "version_major": 2,
       "version_minor": 0
      },
      "text/plain": [
       "VBox(children=(Output(), Output()))"
      ]
     },
     "metadata": {},
     "output_type": "display_data"
    }
   ],
   "source": [
    "epochs = 10000\n",
    "for i in range(1, epochs + 1):\n",
    "    f, ax = plt.subplots(figsize=(10, 10))\n",
    "    \n",
    "    info = model.optim_step(bs=32, lr=0.005)\n",
    "    loss = info['loss']\n",
    "\n",
    "    if i % 10 == 0:\n",
    "        img = model.generate_img(msg)\n",
    "        grid = torchvision.utils.make_grid(img, nrow=10, padding=2)\n",
    "        grid = grid.permute(1, 2, 0).cpu().numpy()\n",
    "        grid = cmap(grid[:,:,0])[:,:,:3]\n",
    "        ax.imshow(grid)\n",
    "        plt.close()\n",
    "\n",
    "        clear_output(wait=True)\n",
    "        display(VBox([\n",
    "            printput(f'#{i} | Loss: {loss:0.5f}'),\n",
    "            dispput(f)\n",
    "        ]), display_id='stats')\n",
    "        \n",
    "    plt.close()"
   ]
  },
  {
   "cell_type": "code",
   "execution_count": null,
   "id": "cfa56dda",
   "metadata": {},
   "outputs": [],
   "source": []
  },
  {
   "cell_type": "code",
   "execution_count": null,
   "id": "4561b86e",
   "metadata": {},
   "outputs": [],
   "source": []
  },
  {
   "cell_type": "code",
   "execution_count": null,
   "id": "0ae253d7",
   "metadata": {},
   "outputs": [],
   "source": []
  },
  {
   "cell_type": "code",
   "execution_count": null,
   "id": "89fcfb0c",
   "metadata": {},
   "outputs": [],
   "source": []
  }
 ],
 "metadata": {
  "kernelspec": {
   "display_name": "nca-ar8j7Liq-py3.9",
   "language": "python",
   "name": "python3"
  },
  "language_info": {
   "codemirror_mode": {
    "name": "ipython",
    "version": 3
   },
   "file_extension": ".py",
   "mimetype": "text/x-python",
   "name": "python",
   "nbconvert_exporter": "python",
   "pygments_lexer": "ipython3",
   "version": "3.9.7 (default, Sep 10 2021, 14:59:43) \n[GCC 11.2.0]"
  },
  "vscode": {
   "interpreter": {
    "hash": "5dda3b13221e531901a13a9596375a25e3047ae1f246ba942bce3f675ebb20c1"
   }
  }
 },
 "nbformat": 4,
 "nbformat_minor": 5
}
